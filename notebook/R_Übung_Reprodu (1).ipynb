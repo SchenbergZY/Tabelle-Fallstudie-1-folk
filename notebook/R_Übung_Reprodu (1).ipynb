{
  "cells": [
    {
      "cell_type": "markdown",
      "id": "c846023d",
      "metadata": {
        "id": "c846023d"
      },
      "source": [
        "# Übung: Reproduzierbarkeit Nationaler Bildungsbericht\n",
        "\n",
        "In dem vorangegangenen Kapitel wurden Sie  mit ersten Grundbausteinen im Arbeiten mit **R** vertraut gemacht.  Diese Fähigkeiten können Sie nutzen, um die *Reproduzierbarkeit* von Grafiken, Daten, etc. zu überprüfen.\n",
        "\n",
        "`````{admonition} Doch was genau ist eigentlich Reproduzierbarkeit?\n",
        ":class: tip\n",
        "Der Begriff Reproduzierbarkeit umschreibt in der Wissenschaft die Möglichkeit, durch Verwenden der gleichen Ausgangsdaten und Auswertungsmethoden auf die gleichen Ergebnisse zu produzieren {cite}`noauthor_reproducibility_2019`.\n",
        "`````\n"
      ]
    },
    {
      "cell_type": "markdown",
      "source": [
        "## Fallbeispiel: Bildungsbericht\n",
        "\n",
        "Im nationalen [Bildungsbericht 2022](https://www.bildungsbericht.de/de/bildungsberichte-seit-2006/bildungsbericht-2022)\n",
        "befindet sich auf der Seite 259 folgende Abbildung:\n",
        "\n",
        "![](https://raw.githubusercontent.com/quadriga-dk/Tabelle-Fallstudie-1/main/Markdown/_images/Abb_H1-3.png)  \n",
        "*Abbildung 8: Abb.H1-3 aus dem Nationalen Bildungsbericht*\n",
        "\n",
        "Wenn Sie nun das Kreisdiagramm für *\"Hochschulen insgesamt\"* und *\"Personen\"* auf Reproduzierbarkeit überprüfen möchten, benötigen Sie hierfür die Daten aus der Primärquelle. Hierzu müssen Sie nun selbst recherchieren und versuchen, die Ausgangsdaten zu finden.\n",
        "\n",
        "```{admonition} Achtung!\n",
        "Der Bildungsbericht verweist auf einzelne Excel-Dateien als Datenbasis (Hier: \"Tab. H1-9web\"), welche gleichzeitig mit dem Bildungsbericht veröffenlticht werden. Eine gute wissenschaftliche Praxis verlangt jedoch, dass Sie die jeweilige Primärquelle verwenden und nicht die verlinkten Sekundärquellen."
      ],
      "metadata": {
        "id": "SGYad0WOCiay"
      },
      "id": "SGYad0WOCiay"
    },
    {
      "cell_type": "markdown",
      "source": [
        "### Primärquelle finden\n",
        "\n",
        "Unter der Grafik sind als Quelle unter anderem die \"Statistische[n] Ämter des Bundes und der Länder\" angegeben. Nun können Sie nachschauen, ob Sie auf der [Website des Statistischen Bundesamtes](https://www-genesis.destatis.de/genesis/online) (auch DESTATIS genannt) die Datenbasis zu dem vorliegendem Kreisdiagramm finden können.\n",
        "\n",
        "**Übung:**\\\n",
        "Finden Sie die Datengrundlage für das obere linke Kreisdiagramm (Personen, Hochschulen insgesamt) auf der Website des des Statistischen Bundesamtes.\n",
        "\n",
        "*Gefunden?*\n",
        "<details>\n",
        "<summary>Ja</summary>\n",
        "<br>\n",
        "Bravo, gut gemacht!\n",
        "Downloaden Sie nun die Daten für das Jahr 2020 als CSV-Datei ab, da sich das Kreisdiagramm nur auf dieses Jahr bezieht.\n",
        "</details>\n",
        "\n",
        "\n",
        "\n",
        "<details>\n",
        "<summary>Nein</summary>\n",
        "<br>\n",
        "Halb so schlimm, die Daten sind auch etwas versteckt. Klicken Sie in folgender Reihenfolge auf besagte Kacheln:\n",
        "\n",
        "1. \"2 Bildung, Sozialleistungen, Gesundheit, Recht\"\n",
        "\n",
        "2. \"21 Bildung und Kultur, Forschung und Entwicklung\"\n",
        "\n",
        "3. \"21341 Statistik des Hochschulpersonals\"\n",
        "\n",
        "4. \"21341-0001\tPersonal an Hochschulen: Deutschland, Jahre, Personalgruppen nach Beschäftigungsverhältnis, Geschlecht\"\n",
        "\n",
        "Hier können Sie nun das Jahr 2020 auswählen, auf dass das Kreisdiagramm verweist und die Daten als CSV-Datei downloaden.\n",
        "</details>\n",
        "\n",
        "Öffnen Sie nun die Datei in einem Programm Ihrer Wahl (z.B. Excel).\n",
        "Wie Sie nun vermutlich selber erkannt haben, handelt es sich bei dieser Datei um die CSV-Ausgangsdatei aus vorangegangener Lerneinheit [Übung: Arbeiten mit CSV-Dateien in R](Übung_csv)."
      ],
      "metadata": {
        "id": "5JJN0-B5CnNp"
      },
      "id": "5JJN0-B5CnNp"
    },
    {
      "cell_type": "markdown",
      "source": [
        "### Nachbauen des Kreisdiagramms in R\n",
        "Das nachfolgende Skript knüpft an die vorangegangene Übung an. Es wird vorausgesetzt das die Daten entsprechend des Skriptes angepasst wurden.\n",
        "Ihre Tabellendaten sollten wie folgt aussehen: (This function does not work unless you load the Tabellendaten dataframe from the last Exercise.)\n"
      ],
      "metadata": {
        "id": "lY4IoOOACqus"
      },
      "id": "lY4IoOOACqus"
    },
    {
      "cell_type": "code",
      "source": [
        "# First replace all ae, oe, ue, ss to ä\", ö, ü, ß\n",
        "Tabellendaten$Angestelltenverhaeltnis <- str_replace_all(Tabellendaten$Angestelltenverhaeltnis, c(\"ae\" = \"ä\", \"oe\" =  \"ö\", \"ue\" = \"ü\" ))\n",
        "Tabellendaten$Geschlecht <- str_replace_all(Tabellendaten$Geschlecht, c(\"ae\" = \"ä\", \"oe\" =  \"ö\", \"ue\" = \"ü\" ))\n",
        "Tabellendaten$Personalkategorie <- str_replace_all(Tabellendaten$Personalkategorie, c(\"ae\" = \"ä\", \"oe\" =  \"ö\", \"ue\" = \"ü\" ))\n",
        "Tabellendaten$Art_der_Anstellung <- str_replace_all(Tabellendaten$Art_der_Anstellung, c(\"ae\" = \"ä\", \"oe\" =  \"ö\", \"ue\" = \"ü\" ))\n",
        "Tabellendaten$Angestelltenverhaeltnis <- trimws(Tabellendaten$Angestelltenverhaeltnis, which = c(\"left\"))\n",
        "#Tabellendaten"
      ],
      "metadata": {
        "id": "iffSKF4dYWvg"
      },
      "id": "iffSKF4dYWvg",
      "execution_count": 95,
      "outputs": []
    },
    {
      "cell_type": "code",
      "source": [
        "head(Tabellendaten)"
      ],
      "metadata": {
        "id": "U5PDvNe1AVVa",
        "outputId": "f918e357-a57c-48d5-c29f-937941dfc866",
        "colab": {
          "base_uri": "https://localhost:8080/",
          "height": 286
        }
      },
      "id": "U5PDvNe1AVVa",
      "execution_count": 96,
      "outputs": [
        {
          "output_type": "display_data",
          "data": {
            "text/html": [
              "<table class=\"dataframe\">\n",
              "<caption>A data.frame: 6 × 5</caption>\n",
              "<thead>\n",
              "\t<tr><th></th><th scope=col>Angestelltenverhaeltnis</th><th scope=col>Geschlecht</th><th scope=col>Angestelltenzahl_2020</th><th scope=col>Personalkategorie</th><th scope=col>Art_der_Anstellung</th></tr>\n",
              "\t<tr><th></th><th scope=col>&lt;chr&gt;</th><th scope=col>&lt;chr&gt;</th><th scope=col>&lt;int&gt;</th><th scope=col>&lt;chr&gt;</th><th scope=col>&lt;chr&gt;</th></tr>\n",
              "</thead>\n",
              "<tbody>\n",
              "\t<tr><th scope=row>1</th><td>Wissenschaftliches und künstlerisches Personal   </td><td>männlich </td><td>247720</td><td>Wissenschaftliches und künstlerisches Personal</td><td>Insgesamt     </td></tr>\n",
              "\t<tr><th scope=row>2</th><td>Wissenschaftliches und künstlerisches Personal   </td><td>weiblich </td><td>167112</td><td>Wissenschaftliches und künstlerisches Personal</td><td>Insgesamt     </td></tr>\n",
              "\t<tr><th scope=row>3</th><td>Wissenschaftliches und künstlerisches Personal   </td><td>Insgesamt</td><td>414832</td><td>Wissenschaftliches und künstlerisches Personal</td><td>Insgesamt     </td></tr>\n",
              "\t<tr><th scope=row>4</th><td>Hauptberufl. wissenschaftl. u. künstler. Personal</td><td>männlich </td><td>159567</td><td>Wissenschaftliches und künstlerisches Personal</td><td>Hauptberuflich</td></tr>\n",
              "\t<tr><th scope=row>5</th><td>Hauptberufl. wissenschaftl. u. künstler. Personal</td><td>weiblich </td><td>109708</td><td>Wissenschaftliches und künstlerisches Personal</td><td>Hauptberuflich</td></tr>\n",
              "\t<tr><th scope=row>6</th><td>Hauptberufl. wissenschaftl. u. künstler. Personal</td><td>Insgesamt</td><td>269275</td><td>Wissenschaftliches und künstlerisches Personal</td><td>Hauptberuflich</td></tr>\n",
              "</tbody>\n",
              "</table>\n"
            ],
            "text/markdown": "\nA data.frame: 6 × 5\n\n| <!--/--> | Angestelltenverhaeltnis &lt;chr&gt; | Geschlecht &lt;chr&gt; | Angestelltenzahl_2020 &lt;int&gt; | Personalkategorie &lt;chr&gt; | Art_der_Anstellung &lt;chr&gt; |\n|---|---|---|---|---|---|\n| 1 | Wissenschaftliches und künstlerisches Personal    | männlich  | 247720 | Wissenschaftliches und künstlerisches Personal | Insgesamt      |\n| 2 | Wissenschaftliches und künstlerisches Personal    | weiblich  | 167112 | Wissenschaftliches und künstlerisches Personal | Insgesamt      |\n| 3 | Wissenschaftliches und künstlerisches Personal    | Insgesamt | 414832 | Wissenschaftliches und künstlerisches Personal | Insgesamt      |\n| 4 | Hauptberufl. wissenschaftl. u. künstler. Personal | männlich  | 159567 | Wissenschaftliches und künstlerisches Personal | Hauptberuflich |\n| 5 | Hauptberufl. wissenschaftl. u. künstler. Personal | weiblich  | 109708 | Wissenschaftliches und künstlerisches Personal | Hauptberuflich |\n| 6 | Hauptberufl. wissenschaftl. u. künstler. Personal | Insgesamt | 269275 | Wissenschaftliches und künstlerisches Personal | Hauptberuflich |\n\n",
            "text/latex": "A data.frame: 6 × 5\n\\begin{tabular}{r|lllll}\n  & Angestelltenverhaeltnis & Geschlecht & Angestelltenzahl\\_2020 & Personalkategorie & Art\\_der\\_Anstellung\\\\\n  & <chr> & <chr> & <int> & <chr> & <chr>\\\\\n\\hline\n\t1 & Wissenschaftliches und künstlerisches Personal    & männlich  & 247720 & Wissenschaftliches und künstlerisches Personal & Insgesamt     \\\\\n\t2 & Wissenschaftliches und künstlerisches Personal    & weiblich  & 167112 & Wissenschaftliches und künstlerisches Personal & Insgesamt     \\\\\n\t3 & Wissenschaftliches und künstlerisches Personal    & Insgesamt & 414832 & Wissenschaftliches und künstlerisches Personal & Insgesamt     \\\\\n\t4 & Hauptberufl. wissenschaftl. u. künstler. Personal & männlich  & 159567 & Wissenschaftliches und künstlerisches Personal & Hauptberuflich\\\\\n\t5 & Hauptberufl. wissenschaftl. u. künstler. Personal & weiblich  & 109708 & Wissenschaftliches und künstlerisches Personal & Hauptberuflich\\\\\n\t6 & Hauptberufl. wissenschaftl. u. künstler. Personal & Insgesamt & 269275 & Wissenschaftliches und künstlerisches Personal & Hauptberuflich\\\\\n\\end{tabular}\n",
            "text/plain": [
              "  Angestelltenverhaeltnis                           Geschlecht\n",
              "1 Wissenschaftliches und künstlerisches Personal    männlich  \n",
              "2 Wissenschaftliches und künstlerisches Personal    weiblich  \n",
              "3 Wissenschaftliches und künstlerisches Personal    Insgesamt \n",
              "4 Hauptberufl. wissenschaftl. u. künstler. Personal männlich  \n",
              "5 Hauptberufl. wissenschaftl. u. künstler. Personal weiblich  \n",
              "6 Hauptberufl. wissenschaftl. u. künstler. Personal Insgesamt \n",
              "  Angestelltenzahl_2020 Personalkategorie                             \n",
              "1 247720                Wissenschaftliches und künstlerisches Personal\n",
              "2 167112                Wissenschaftliches und künstlerisches Personal\n",
              "3 414832                Wissenschaftliches und künstlerisches Personal\n",
              "4 159567                Wissenschaftliches und künstlerisches Personal\n",
              "5 109708                Wissenschaftliches und künstlerisches Personal\n",
              "6 269275                Wissenschaftliches und künstlerisches Personal\n",
              "  Art_der_Anstellung\n",
              "1 Insgesamt         \n",
              "2 Insgesamt         \n",
              "3 Insgesamt         \n",
              "4 Hauptberuflich    \n",
              "5 Hauptberuflich    \n",
              "6 Hauptberuflich    "
            ]
          },
          "metadata": {}
        }
      ]
    },
    {
      "cell_type": "markdown",
      "source": [
        "Falls Sie die R-Session neu beginnen, sollten Sie wieder für diese Übung das `tidyverse`-Package laden."
      ],
      "metadata": {
        "id": "rKyefLb5CtH6"
      },
      "id": "rKyefLb5CtH6"
    },
    {
      "cell_type": "code",
      "source": [
        "library(tidyverse)"
      ],
      "metadata": {
        "id": "D7mt-cApCGqu"
      },
      "id": "D7mt-cApCGqu",
      "execution_count": 97,
      "outputs": []
    },
    {
      "cell_type": "markdown",
      "source": [
        "#### Aufbau des Kreisdiagramms\n",
        "\n",
        "![](https://raw.githubusercontent.com/quadriga-dk/Tabelle-Fallstudie-1/main/Markdown/_images/Abb_H1-3_fokus.png)  \n",
        "*Abbildung 9: Abb.H1-3 aus dem Nationalen Bildungsbericht*\n",
        "\n",
        "Um das Kreisdiagramm reproduzieren zu können, müssen Sie zunächst die einzelnen Bestandteile verstehen.\n",
        "Das Diagramm unterteilt in die folgenden drei Personalgruppen:\n",
        "\n",
        "- Professor:innen\n",
        "- Wissenschaftliche und künstlerische Mitarbeiter:innen\n",
        "- Nebenberufliche Mitarbeiter:innen\n",
        "\n",
        "Zu diesen Personalgruppen werden jeweils die absoluten Beschäftigungszahlen und der jeweilige prozentuale Anteile zur Gesamtsumme für das Jahr 2020\n",
        "angegeben.\n",
        "\n",
        "*Lesebeispiel: Im Jahr 2020 waren insgesamt 49.293 Professor:innen an Universitäten und Fachhochschulen in Deutschland angestellt.*\n"
      ],
      "metadata": {
        "id": "fTsbBczuOG6d"
      },
      "id": "fTsbBczuOG6d"
    },
    {
      "cell_type": "markdown",
      "source": [
        "#### Einzelne Datenwerte finden\n",
        "Zur eigenständigen Erstellung des Kreisdiagramms müssen Sie nun die absoluten Beschäftigungszahlen in Ihren Tabellendaten finden.\n",
        "Hierzu bietet sich das Suchen mittels der `filter()`-Funktion an, welche zum Ende der letzten Übung thematisiert wurde.\n",
        "\n",
        "Filtern nach Professoren:"
      ],
      "metadata": {
        "id": "DXvYzSrpOYhc"
      },
      "id": "DXvYzSrpOYhc"
    },
    {
      "cell_type": "code",
      "source": [
        "filter(Tabellendaten, Tabellendaten$Angestelltenverhaeltnis == \"Professoren\" & Tabellendaten$Geschlecht == \"Insgesamt\")"
      ],
      "metadata": {
        "id": "fEqxh9v-Cwsn",
        "outputId": "93e07284-35a6-4d60-df26-7125bfeca4cd",
        "colab": {
          "base_uri": "https://localhost:8080/",
          "height": 129
        }
      },
      "id": "fEqxh9v-Cwsn",
      "execution_count": 98,
      "outputs": [
        {
          "output_type": "display_data",
          "data": {
            "text/html": [
              "<table class=\"dataframe\">\n",
              "<caption>A data.frame: 1 × 5</caption>\n",
              "<thead>\n",
              "\t<tr><th scope=col>Angestelltenverhaeltnis</th><th scope=col>Geschlecht</th><th scope=col>Angestelltenzahl_2020</th><th scope=col>Personalkategorie</th><th scope=col>Art_der_Anstellung</th></tr>\n",
              "\t<tr><th scope=col>&lt;chr&gt;</th><th scope=col>&lt;chr&gt;</th><th scope=col>&lt;int&gt;</th><th scope=col>&lt;chr&gt;</th><th scope=col>&lt;chr&gt;</th></tr>\n",
              "</thead>\n",
              "<tbody>\n",
              "\t<tr><td>Professoren</td><td>Insgesamt</td><td>49293</td><td>Wissenschaftliches und künstlerisches Personal</td><td>Hauptberuflich</td></tr>\n",
              "</tbody>\n",
              "</table>\n"
            ],
            "text/markdown": "\nA data.frame: 1 × 5\n\n| Angestelltenverhaeltnis &lt;chr&gt; | Geschlecht &lt;chr&gt; | Angestelltenzahl_2020 &lt;int&gt; | Personalkategorie &lt;chr&gt; | Art_der_Anstellung &lt;chr&gt; |\n|---|---|---|---|---|\n| Professoren | Insgesamt | 49293 | Wissenschaftliches und künstlerisches Personal | Hauptberuflich |\n\n",
            "text/latex": "A data.frame: 1 × 5\n\\begin{tabular}{lllll}\n Angestelltenverhaeltnis & Geschlecht & Angestelltenzahl\\_2020 & Personalkategorie & Art\\_der\\_Anstellung\\\\\n <chr> & <chr> & <int> & <chr> & <chr>\\\\\n\\hline\n\t Professoren & Insgesamt & 49293 & Wissenschaftliches und künstlerisches Personal & Hauptberuflich\\\\\n\\end{tabular}\n",
            "text/plain": [
              "  Angestelltenverhaeltnis Geschlecht Angestelltenzahl_2020\n",
              "1 Professoren             Insgesamt  49293                \n",
              "  Personalkategorie                              Art_der_Anstellung\n",
              "1 Wissenschaftliches und künstlerisches Personal Hauptberuflich    "
            ]
          },
          "metadata": {}
        }
      ]
    },
    {
      "cell_type": "code",
      "source": [
        "##  Angestelltenverhaeltnis Geschlecht Angestelltenzahl_2020                              Personalkategorie Art_der_Anstellung\n",
        "## 1             Professoren  Insgesamt                 49293 Wissenschaftliches und künstlerisches Personal     Hauptberuflich"
      ],
      "metadata": {
        "id": "cmnmVVIKWkZa"
      },
      "id": "cmnmVVIKWkZa",
      "execution_count": 99,
      "outputs": []
    },
    {
      "cell_type": "markdown",
      "source": [
        "Wie Sie erkennen können, stimmt die Angestelltenzahl von 49293 mit der aus dem Kreisdiagramm überein.\n",
        "Diese Ausgabe können Sie sich nun abspeichern."
      ],
      "metadata": {
        "id": "jGpQl9feWoaf"
      },
      "id": "jGpQl9feWoaf"
    },
    {
      "cell_type": "code",
      "source": [
        "Professoren_Insgesamt <- filter(Tabellendaten, Tabellendaten$Angestelltenverhaeltnis == \"Professoren\" & Tabellendaten$Geschlecht == \"Insgesamt\")"
      ],
      "metadata": {
        "id": "r89nOPWVObsy"
      },
      "id": "r89nOPWVObsy",
      "execution_count": 100,
      "outputs": []
    },
    {
      "cell_type": "markdown",
      "source": [
        "Für Nebenberufliche Mitarbeiter:innen gehen Sie analog vor:"
      ],
      "metadata": {
        "id": "kmDh_4MhWwO1"
      },
      "id": "kmDh_4MhWwO1"
    },
    {
      "cell_type": "code",
      "source": [
        "Nebenberuflich_Insgesamt <- filter(Tabellendaten, Tabellendaten$Angestelltenverhaeltnis == \"Nebenberufl. wissenschaftl. u. künstler. Personal\" & Tabellendaten$Geschlecht == \"Insgesamt\")\n",
        "\n",
        "#Wert anzeigen lassen\n",
        "Nebenberuflich_Insgesamt"
      ],
      "metadata": {
        "id": "ZLR8SdsdWsGu",
        "outputId": "aa4c4495-a4c7-4274-d906-b7309ed954a9",
        "colab": {
          "base_uri": "https://localhost:8080/",
          "height": 129
        }
      },
      "id": "ZLR8SdsdWsGu",
      "execution_count": 102,
      "outputs": [
        {
          "output_type": "display_data",
          "data": {
            "text/html": [
              "<table class=\"dataframe\">\n",
              "<caption>A data.frame: 1 × 5</caption>\n",
              "<thead>\n",
              "\t<tr><th scope=col>Angestelltenverhaeltnis</th><th scope=col>Geschlecht</th><th scope=col>Angestelltenzahl_2020</th><th scope=col>Personalkategorie</th><th scope=col>Art_der_Anstellung</th></tr>\n",
              "\t<tr><th scope=col>&lt;chr&gt;</th><th scope=col>&lt;chr&gt;</th><th scope=col>&lt;int&gt;</th><th scope=col>&lt;chr&gt;</th><th scope=col>&lt;chr&gt;</th></tr>\n",
              "</thead>\n",
              "<tbody>\n",
              "\t<tr><td>Nebenberufl. wissenschaftl. u. künstler. Personal</td><td>Insgesamt</td><td>145557</td><td>Wissenschaftliches und künstlerisches Personal</td><td>Nebenberuflich</td></tr>\n",
              "</tbody>\n",
              "</table>\n"
            ],
            "text/markdown": "\nA data.frame: 1 × 5\n\n| Angestelltenverhaeltnis &lt;chr&gt; | Geschlecht &lt;chr&gt; | Angestelltenzahl_2020 &lt;int&gt; | Personalkategorie &lt;chr&gt; | Art_der_Anstellung &lt;chr&gt; |\n|---|---|---|---|---|\n| Nebenberufl. wissenschaftl. u. künstler. Personal | Insgesamt | 145557 | Wissenschaftliches und künstlerisches Personal | Nebenberuflich |\n\n",
            "text/latex": "A data.frame: 1 × 5\n\\begin{tabular}{lllll}\n Angestelltenverhaeltnis & Geschlecht & Angestelltenzahl\\_2020 & Personalkategorie & Art\\_der\\_Anstellung\\\\\n <chr> & <chr> & <int> & <chr> & <chr>\\\\\n\\hline\n\t Nebenberufl. wissenschaftl. u. künstler. Personal & Insgesamt & 145557 & Wissenschaftliches und künstlerisches Personal & Nebenberuflich\\\\\n\\end{tabular}\n",
            "text/plain": [
              "  Angestelltenverhaeltnis                           Geschlecht\n",
              "1 Nebenberufl. wissenschaftl. u. künstler. Personal Insgesamt \n",
              "  Angestelltenzahl_2020 Personalkategorie                             \n",
              "1 145557                Wissenschaftliches und künstlerisches Personal\n",
              "  Art_der_Anstellung\n",
              "1 Nebenberuflich    "
            ]
          },
          "metadata": {}
        }
      ]
    },
    {
      "cell_type": "code",
      "source": [
        "##                             Angestelltenverhaeltnis Geschlecht Angestelltenzahl_2020                              Personalkategorie Art_der_Anstellung\n",
        "## 1 Nebenberufl. wissenschaftl. u. künstler. Personal  Insgesamt                145557 Wissenschaftliches und künstlerisches Personal     Nebenberuflich"
      ],
      "metadata": {
        "id": "FHEgt6YkW1F6"
      },
      "id": "FHEgt6YkW1F6",
      "execution_count": 103,
      "outputs": []
    },
    {
      "cell_type": "markdown",
      "source": [
        "Den Wert für \"wissenschaftlichen und künstlerischen Mitarbeiter:innen\" im Kreisdiagramm können Sie nicht direkt aus der Tabelle ablesen.\n",
        "Sie erhalten diese Zahl indem Sie die \"Professoren - Insgesamt\" von  \"Hauptberuflich wissenschaftliches und künstlerisches Personal - Insgesamt\" abziehen, da die Professoren in der DESTATIS-Datei auch unter der Kategorie \"Hauptberuflich wissenschaftliches und künstlerisches Personal\" gelistet werden."
      ],
      "metadata": {
        "id": "joAVO7FNaAq1"
      },
      "id": "joAVO7FNaAq1"
    },
    {
      "cell_type": "code",
      "source": [
        "Professoren_Insgesamt <- filter(Tabellendaten, Tabellendaten$Angestelltenverhaeltnis == \"Professoren\" &\n",
        "                Tabellendaten$Geschlecht == \"Insgesamt\")\n",
        "\n",
        "Hauptberuflich_Insgesamt <- filter(Tabellendaten, Tabellendaten$Angestelltenverhaeltnis == \"Hauptberufl. wissenschaftl. u. künstler. Personal\" &\n",
        "                                     Tabellendaten$Geschlecht == \"Insgesamt\")\n",
        "\n",
        "Hauptberuflich_exlusive_Professoren <- Hauptberuflich_Insgesamt$Angestelltenzahl_2020 - Professoren_Insgesamt$Angestelltenzahl_2020\n",
        "\n",
        "#Wert anzeigen lassen\n",
        "Hauptberuflich_exlusive_Professoren"
      ],
      "metadata": {
        "id": "hkARKuAuW5gP",
        "outputId": "6c50bb01-0a0e-436b-a6de-d75d0c93182b",
        "colab": {
          "base_uri": "https://localhost:8080/",
          "height": 34
        }
      },
      "id": "hkARKuAuW5gP",
      "execution_count": 104,
      "outputs": [
        {
          "output_type": "display_data",
          "data": {
            "text/html": [
              "219982"
            ],
            "text/markdown": "219982",
            "text/latex": "219982",
            "text/plain": [
              "[1] 219982"
            ]
          },
          "metadata": {}
        }
      ]
    },
    {
      "cell_type": "code",
      "source": [
        "## [1] 219982"
      ],
      "metadata": {
        "id": "nQubDxXoaDcd"
      },
      "id": "nQubDxXoaDcd",
      "execution_count": 105,
      "outputs": []
    },
    {
      "cell_type": "markdown",
      "source": [
        "#### Dataframe  erstellen\n",
        "Sie haben nun die einzelnen Datenwerte abgespeichert. Damit Sie diese für ein Kreisdiagramm verwenden können, müssen Sie diese Werte in einem neu erstellen Dataframe kombinieren.\n",
        "\n",
        "Hierzu erstellen Sie zunächst einen Vektor mit den passenden Bezeichnungen (Grundlage: Legende der Originalabbildung)."
      ],
      "metadata": {
        "id": "ipRlOqGraIvP"
      },
      "id": "ipRlOqGraIvP"
    },
    {
      "cell_type": "code",
      "source": [
        "Personalgruppe <- c(\"Wissenschaftliche und künstlerische Mitarbeiter:innen\", \"Professor:innen\", \"Nebenberufliche Mitarbeiter:innen\")"
      ],
      "metadata": {
        "id": "Rzo947haaFRw"
      },
      "id": "Rzo947haaFRw",
      "execution_count": 106,
      "outputs": []
    },
    {
      "cell_type": "markdown",
      "source": [
        "Nun erzeugen Sie einen zweiten Vektor, welcher die abgespeicherten Datenwerte zu den jeweiligen Personalgruppen enthält.\\\n",
        "**Achtung!:** Hier ist die richtige Reihenfolge analog zum Vektor \"Arbeitsverhältnis\" wichtig."
      ],
      "metadata": {
        "id": "4_DExldkaO8y"
      },
      "id": "4_DExldkaO8y"
    },
    {
      "cell_type": "code",
      "source": [
        "Absolute_Werte <- c(Hauptberuflich_exlusive_Professoren, Professoren_Insgesamt$Angestelltenzahl_2020,\n",
        "                    Nebenberuflich_Insgesamt$Angestelltenzahl_2020)"
      ],
      "metadata": {
        "id": "UYIyRSAYaK8R"
      },
      "id": "UYIyRSAYaK8R",
      "execution_count": 107,
      "outputs": []
    },
    {
      "cell_type": "markdown",
      "source": [
        "Nun können Sie beide Vektoren kombinieren und einen Dataframe erstellen:"
      ],
      "metadata": {
        "id": "V1jUjSg3aT4c"
      },
      "id": "V1jUjSg3aT4c"
    },
    {
      "cell_type": "code",
      "source": [
        "Daten_kreisdiagramm <- data.frame(Personalgruppe, Absolute_Werte)\n",
        "\n",
        "#Dataframe anzeigen lassen\n",
        "Daten_kreisdiagramm"
      ],
      "metadata": {
        "id": "3LSoXVrDaQqY",
        "outputId": "899e5f33-7df1-46f1-9b00-4a70bdb52964",
        "colab": {
          "base_uri": "https://localhost:8080/",
          "height": 192
        }
      },
      "id": "3LSoXVrDaQqY",
      "execution_count": 108,
      "outputs": [
        {
          "output_type": "display_data",
          "data": {
            "text/html": [
              "<table class=\"dataframe\">\n",
              "<caption>A data.frame: 3 × 2</caption>\n",
              "<thead>\n",
              "\t<tr><th scope=col>Personalgruppe</th><th scope=col>Absolute_Werte</th></tr>\n",
              "\t<tr><th scope=col>&lt;chr&gt;</th><th scope=col>&lt;int&gt;</th></tr>\n",
              "</thead>\n",
              "<tbody>\n",
              "\t<tr><td>Wissenschaftliche und künstlerische Mitarbeiter:innen</td><td>219982</td></tr>\n",
              "\t<tr><td>Professor:innen                                      </td><td> 49293</td></tr>\n",
              "\t<tr><td>Nebenberufliche Mitarbeiter:innen                    </td><td>145557</td></tr>\n",
              "</tbody>\n",
              "</table>\n"
            ],
            "text/markdown": "\nA data.frame: 3 × 2\n\n| Personalgruppe &lt;chr&gt; | Absolute_Werte &lt;int&gt; |\n|---|---|\n| Wissenschaftliche und künstlerische Mitarbeiter:innen | 219982 |\n| Professor:innen                                       |  49293 |\n| Nebenberufliche Mitarbeiter:innen                     | 145557 |\n\n",
            "text/latex": "A data.frame: 3 × 2\n\\begin{tabular}{ll}\n Personalgruppe & Absolute\\_Werte\\\\\n <chr> & <int>\\\\\n\\hline\n\t Wissenschaftliche und künstlerische Mitarbeiter:innen & 219982\\\\\n\t Professor:innen                                       &  49293\\\\\n\t Nebenberufliche Mitarbeiter:innen                     & 145557\\\\\n\\end{tabular}\n",
            "text/plain": [
              "  Personalgruppe                                        Absolute_Werte\n",
              "1 Wissenschaftliche und künstlerische Mitarbeiter:innen 219982        \n",
              "2 Professor:innen                                        49293        \n",
              "3 Nebenberufliche Mitarbeiter:innen                     145557        "
            ]
          },
          "metadata": {}
        }
      ]
    },
    {
      "cell_type": "code",
      "source": [
        "##                       Personalgruppe  Absolute_Werte\n",
        "## 1 Wissenschaftliche und künstlerische Mitarbeiter:innen     219982\n",
        "## 2                     Professor:innen      49293\n",
        "## 3            Nebenberufliche Mitarbeiter:innen     145557"
      ],
      "metadata": {
        "id": "dhX0jFMLaWPc"
      },
      "id": "dhX0jFMLaWPc",
      "execution_count": 109,
      "outputs": []
    },
    {
      "cell_type": "markdown",
      "source": [
        "Der erstellte Dataframe kann nun um eine neue Variable erweitert werden, welche die Datenwerte in Prozent zum Gesamtwert anzeigt.\n",
        "Hierfür können Sie sich die folgenden zwei Befehle zu nutze machen:\n",
        "\n",
        "- Der Befehl `round()`rundet eine Zahl auf die nach dem Komma angegebene Nachkommastelle.\n",
        "\n",
        "- Der Befehl `paste()` kombiniert zwei einzelne Objekte (z.B. Vektoren, einzelne Datenwerte, etc.). Mittels `sep =` können Sie angeben, welches Zeichen zwischen den Objekten stehen soll. Falls Sie diese Spezifikation weglassen, wird **R** ein einzelnes Leerzeichen verwenden."
      ],
      "metadata": {
        "id": "lcL6LeNdaeTp"
      },
      "id": "lcL6LeNdaeTp"
    },
    {
      "cell_type": "code",
      "source": [
        "#Varibale \"Prozent\" erzeugen\n",
        "Daten_kreisdiagramm$Prozent <- paste(round(Daten_kreisdiagramm$Absolute_Werte/sum(Daten_kreisdiagramm$Absolute_Werte)*100,0), \"%\")\n",
        "\n",
        "#Absolute Werte und Prozentwerte kombinieren\n",
        "Daten_kreisdiagramm$Werte_kombiniert <- paste(Daten_kreisdiagramm$Absolute_Werte, sep = \" | \", Daten_kreisdiagramm$Prozent)\n",
        "\n",
        "#Neue Variablen begutachten\n",
        "Daten_kreisdiagramm"
      ],
      "metadata": {
        "id": "Uw2VKPaYaZQv",
        "outputId": "a914fc55-55de-4026-b38b-b5007b225c9a",
        "colab": {
          "base_uri": "https://localhost:8080/",
          "height": 192
        }
      },
      "id": "Uw2VKPaYaZQv",
      "execution_count": 110,
      "outputs": [
        {
          "output_type": "display_data",
          "data": {
            "text/html": [
              "<table class=\"dataframe\">\n",
              "<caption>A data.frame: 3 × 4</caption>\n",
              "<thead>\n",
              "\t<tr><th scope=col>Personalgruppe</th><th scope=col>Absolute_Werte</th><th scope=col>Prozent</th><th scope=col>Werte_kombiniert</th></tr>\n",
              "\t<tr><th scope=col>&lt;chr&gt;</th><th scope=col>&lt;int&gt;</th><th scope=col>&lt;chr&gt;</th><th scope=col>&lt;chr&gt;</th></tr>\n",
              "</thead>\n",
              "<tbody>\n",
              "\t<tr><td>Wissenschaftliche und künstlerische Mitarbeiter:innen</td><td>219982</td><td>53 %</td><td>219982 | 53 %</td></tr>\n",
              "\t<tr><td>Professor:innen                                      </td><td> 49293</td><td>12 %</td><td>49293 | 12 % </td></tr>\n",
              "\t<tr><td>Nebenberufliche Mitarbeiter:innen                    </td><td>145557</td><td>35 %</td><td>145557 | 35 %</td></tr>\n",
              "</tbody>\n",
              "</table>\n"
            ],
            "text/markdown": "\nA data.frame: 3 × 4\n\n| Personalgruppe &lt;chr&gt; | Absolute_Werte &lt;int&gt; | Prozent &lt;chr&gt; | Werte_kombiniert &lt;chr&gt; |\n|---|---|---|---|\n| Wissenschaftliche und künstlerische Mitarbeiter:innen | 219982 | 53 % | 219982 | 53 % |\n| Professor:innen                                       |  49293 | 12 % | 49293 | 12 %  |\n| Nebenberufliche Mitarbeiter:innen                     | 145557 | 35 % | 145557 | 35 % |\n\n",
            "text/latex": "A data.frame: 3 × 4\n\\begin{tabular}{llll}\n Personalgruppe & Absolute\\_Werte & Prozent & Werte\\_kombiniert\\\\\n <chr> & <int> & <chr> & <chr>\\\\\n\\hline\n\t Wissenschaftliche und künstlerische Mitarbeiter:innen & 219982 & 53 \\% & 219982 \\textbar{} 53 \\%\\\\\n\t Professor:innen                                       &  49293 & 12 \\% & 49293 \\textbar{} 12 \\% \\\\\n\t Nebenberufliche Mitarbeiter:innen                     & 145557 & 35 \\% & 145557 \\textbar{} 35 \\%\\\\\n\\end{tabular}\n",
            "text/plain": [
              "  Personalgruppe                                        Absolute_Werte Prozent\n",
              "1 Wissenschaftliche und künstlerische Mitarbeiter:innen 219982         53 %   \n",
              "2 Professor:innen                                        49293         12 %   \n",
              "3 Nebenberufliche Mitarbeiter:innen                     145557         35 %   \n",
              "  Werte_kombiniert\n",
              "1 219982 | 53 %   \n",
              "2 49293 | 12 %    \n",
              "3 145557 | 35 %   "
            ]
          },
          "metadata": {}
        }
      ]
    },
    {
      "cell_type": "code",
      "source": [
        "##                        Personalgruppe Absolute_Werte Prozent     Werte_kombiniert\n",
        "## 1 Wissenschaftliche und künstlerische Mitarbeiter:innen     219982    53 %    219982 | 53 %\n",
        "## 2                     Professor:innen      49293    12 %     49293 | 12 %\n",
        "## 3            Nebenberufliche Mitarbeiter:innen     145557    35 %    145557 | 35 %"
      ],
      "metadata": {
        "id": "CWrrrYgcahAg"
      },
      "id": "CWrrrYgcahAg",
      "execution_count": 112,
      "outputs": []
    },
    {
      "cell_type": "markdown",
      "source": [
        "Falls Sie wie in dem originalen Kreisdiagramm Tausenderpunkte angezeigt bekommen möchten, können Sie die Funktion `prettyNum` verwenden."
      ],
      "metadata": {
        "id": "cSRsmLsNa8tt"
      },
      "id": "cSRsmLsNa8tt"
    },
    {
      "cell_type": "code",
      "source": [
        "Daten_kreisdiagramm$Werte_kombiniert <- prettyNum(Daten_kreisdiagramm$Werte_kombiniert, big.mark = \".\", decimal.mark = \",\")\n",
        "Daten_kreisdiagramm$Arbeitsverhältnis <- Daten_kreisdiagramm$Personalgruppe"
      ],
      "metadata": {
        "id": "2KENCrtmaioU"
      },
      "id": "2KENCrtmaioU",
      "execution_count": 118,
      "outputs": []
    },
    {
      "cell_type": "markdown",
      "source": [
        "#### Visualisierung des Kreisdiagramms\n",
        "Aus dem erzeugten Dataframe können Sie sich nun ein Kreisdiagramm erstellen lassen. Hierzu könnten Sie den Befehl `pie()` nutzen. Diese Funktion bietet jedoch nicht viele Anpassungsmöglichkeiten und im folgenden wird auf die weit verbreitete `ggplot`-Funktion zurückgegriffen.\n",
        "\n",
        "Lassen Sie sich nicht von der Länge des folgenden Codes abschrecken. Jede einzelne Zeile spezifiziert den Aufbau des Kreisdiagramms. Wenn Sie weitere Details zu bestimmten Befehlen erfahren wollen, schlagen Sie diese in der R-Dokumentation nach (z.B. `?geom_label()`) oder lassen Sie mal bestimmte Zeilen weg, um nachzugucken, was sich am Output verändert."
      ],
      "metadata": {
        "id": "T8ibg1pBbB2T"
      },
      "id": "T8ibg1pBbB2T"
    },
    {
      "cell_type": "code",
      "source": [
        "ggplot(Daten_kreisdiagramm, aes(x=\"\", y=Absolute_Werte, fill=Arbeitsverhältnis))+ #Setzen der Datenbasis\n",
        "  geom_bar(stat=\"identity\")+ #Setzen wie die Werte verarbeitet werden sollen\n",
        "  coord_polar(\"y\")+ #Zusatz für Kreisdiagramme\n",
        "  theme_void()+ #Hintergrund wird weiß eingefärbt\n",
        "  scale_fill_manual(values = c(\"#FF9900\", \"#333399\", \"#CC0033\"))+ #Farben für einzelne Diagrammteile setzen. Farbcodes sind online abrufbar.\n",
        "  ggtitle(\"Hochschulen insgesamt\")+ #Überschrift setzen\n",
        "  geom_label(aes(label=Werte_kombiniert), #Beschriftung setzen\n",
        "             position = position_stack(vjust = 0.5), #Position der Beschriftung setzen\n",
        "             color=\"white\", #Schriftfarbe setzen\n",
        "             label.size = 0, #Größe des Randes um Beschriftung setzen\n",
        "             size=4, #Schriftgröße setzen\n",
        "             show.legend = FALSE) #Beschriftung soll nicht in der Legende angezeigt werden"
      ],
      "metadata": {
        "id": "METDUHHua-pG",
        "outputId": "32a97c8b-09b8-46ce-c63f-248be8b78ca6",
        "colab": {
          "base_uri": "https://localhost:8080/",
          "height": 437
        }
      },
      "id": "METDUHHua-pG",
      "execution_count": 119,
      "outputs": [
        {
          "output_type": "display_data",
          "data": {
            "text/plain": [
              "plot without title"
            ],
            "image/png": "[encoded data removed]"
          },
          "metadata": {
            "image/png": {
              "width": 420,
              "height": 420
            }
          }
        }
      ]
    },
    {
      "cell_type": "markdown",
      "source": [
        "![](https://raw.githubusercontent.com/quadriga-dk/Tabelle-Fallstudie-1/main/Markdown/_images/pie_with_R.png)  \n",
        "*Abbildung 10: Nachgbautes Kreisdiagramm mit R*\n",
        "\n",
        "Voilà, Sie haben soeben das Kreisdiagramm nachgebaut!\n",
        "\n",
        "#### Fazit\n",
        "Betrachten Sie nun das originale Diagramm aus dem Bildungsbericht und das von Ihnen selbstständig erzeugte im Vergleich:\n",
        "\n",
        "![](https://github.com/SchenbergZY/Tabelle-Fallstudie-1/blob/main/notebook/_images/Pie_vergleich.png?raw=1)  \n",
        "*Abbildung 11: vergleich nachgebautes vs. originales Kreisdiagramm*\n",
        "\n",
        "Bis auf kleine Schönheitsfehler fällt im direkten Vergleich kein Unterschied auf.\n",
        "\n",
        "**Das Kreisdiagramm ist somit mittels der Primärquelle reproduzierbar!**\n"
      ],
      "metadata": {
        "id": "j42bcWuacK5z"
      },
      "id": "j42bcWuacK5z"
    },
    {
      "cell_type": "code",
      "source": [],
      "metadata": {
        "id": "9vRKdSYwciY3"
      },
      "id": "9vRKdSYwciY3",
      "execution_count": null,
      "outputs": []
    }
  ],
  "metadata": {
    "jupytext": {
      "cell_metadata_filter": "message,class.output,warning,language,tags,eval,-all",
      "main_language": "R",
      "notebook_metadata_filter": "-all"
    },
    "kernelspec": {
      "display_name": "R",
      "language": "R",
      "name": "ir"
    },
    "language_info": {
      "codemirror_mode": "r",
      "file_extension": ".r",
      "mimetype": "text/x-r-source",
      "name": "R",
      "pygments_lexer": "r",
      "version": "4.3.3"
    },
    "colab": {
      "provenance": []
    }
  },
  "nbformat": 4,
  "nbformat_minor": 5
}
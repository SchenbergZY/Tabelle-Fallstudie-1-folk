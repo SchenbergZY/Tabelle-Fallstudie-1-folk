{
  "cells": [
    {
      "cell_type": "markdown",
      "source": [
        "# Übung: Zeitreihe Personalentwicklung\n",
        "\n",
        "In den vorangegangenen Übungen konnten wir verschiedene Fragen nach der Qualität der Daten und der Reproduzierbarkeit beantworten.\n",
        "\n",
        "Doch wie steht es eigentlich um unsere Forschungsfrage:\n",
        "\n",
        "> Wie hat sich die Zusammensetzung des Personals an Hochschulen in Deutschland im letzten Jahrzehnt (2010-2020) entwickelt?\n",
        "\n",
        "Um diese Frage beantworten zu können, reicht unsere Raw-Data Datei nicht aus, das diese nur die Daten für das Jahr 2020 enthält.\n",
        "Das Open-Data-Portal von Destatis bietet jedoch auch die Möglichkeiten, die Daten für alle Jahre von 2010 bis 2020 herunterzuladen\n",
        "(https://www-genesis.destatis.de/genesis//online?operation=table&code=21341-0001&bypass=true&levelindex=1&levelid=1719408768654#abreadcrumb).\n",
        "\n",
        "## Daten vorbereiten\n",
        "\n",
        "Die CSV Datei können Sie nun wie in der Lerneinheit [Übung: Arbeiten mit CSV-Dateien in R](Einlesen_csv) einlesen und in Daten und Metadaten unterteilen."
      ],
      "metadata": {
        "id": "CMT4U7PM6CJX"
      }
    },
    {
      "cell_type": "code",
      "source": [
        "#Benötigtes Package zum Start des Session laden, damit alle hier verwendeteten Befehle verfügbar sind\n",
        "library(tidyverse)\n",
        "\n",
        "#Daten einlesen\n",
        "data_csv_clean <- read.csv2(\"21341-0001_$F.csv\", header = FALSE, encoding = \"latin1\")\n",
        "\n",
        "#Datenkategorie setzten\n",
        "Metadaten <- data_csv_clean[c(1:6, 87:88), 1]\n",
        "Tabellendaten <- data_csv_clean[8:85, 1:13] #manuelles anpassen der zusätzlichen Spalten (Jahre 2010 bis 2019) nötig\n",
        "\n",
        "#Zeilen neu beschriften\n",
        "row.names(Tabellendaten) <- 1:78"
      ],
      "metadata": {
        "id": "gZ_OoHck7R8O"
      },
      "execution_count": 4,
      "outputs": []
    },
    {
      "cell_type": "markdown",
      "source": [
        "Betrachten wir nun die neuen Tabellendaten:"
      ],
      "metadata": {
        "id": "r8g78z7r9tin"
      }
    },
    {
      "cell_type": "code",
      "source": [
        "head(Tabellendaten)"
      ],
      "metadata": {
        "id": "CGXPwtFV7Xys",
        "outputId": "c2f49bfe-f771-4408-fc58-bfb178a2a896",
        "colab": {
          "base_uri": "https://localhost:8080/",
          "height": 286
        }
      },
      "execution_count": 5,
      "outputs": [
        {
          "output_type": "display_data",
          "data": {
            "text/html": [
              "<table class=\"dataframe\">\n",
              "<caption>A data.frame: 6 × 13</caption>\n",
              "<thead>\n",
              "\t<tr><th></th><th scope=col>V1</th><th scope=col>V2</th><th scope=col>V3</th><th scope=col>V4</th><th scope=col>V5</th><th scope=col>V6</th><th scope=col>V7</th><th scope=col>V8</th><th scope=col>V9</th><th scope=col>V10</th><th scope=col>V11</th><th scope=col>V12</th><th scope=col>V13</th></tr>\n",
              "\t<tr><th></th><th scope=col>&lt;chr&gt;</th><th scope=col>&lt;chr&gt;</th><th scope=col>&lt;chr&gt;</th><th scope=col>&lt;chr&gt;</th><th scope=col>&lt;chr&gt;</th><th scope=col>&lt;chr&gt;</th><th scope=col>&lt;chr&gt;</th><th scope=col>&lt;chr&gt;</th><th scope=col>&lt;chr&gt;</th><th scope=col>&lt;chr&gt;</th><th scope=col>&lt;chr&gt;</th><th scope=col>&lt;chr&gt;</th><th scope=col>&lt;chr&gt;</th></tr>\n",
              "</thead>\n",
              "<tbody>\n",
              "\t<tr><th scope=row>1</th><td>Wissenschaftliches und künstlerisches Personal     </td><td>männlich </td><td>208268</td><td>214232</td><td>222735</td><td>230286</td><td>236561</td><td>237107</td><td>237557</td><td>241300</td><td>244186</td><td>245452</td><td>247720</td></tr>\n",
              "\t<tr><th scope=row>2</th><td>Wissenschaftliches und künstlerisches Personal     </td><td>weiblich </td><td>116099</td><td>122870</td><td>130955</td><td>139561</td><td>144708</td><td>148204</td><td>149195</td><td>153578</td><td>157872</td><td>161207</td><td>167112</td></tr>\n",
              "\t<tr><th scope=row>3</th><td>Wissenschaftliches und künstlerisches Personal     </td><td>Insgesamt</td><td>324367</td><td>337102</td><td>353690</td><td>369847</td><td>381269</td><td>385311</td><td>386752</td><td>394878</td><td>402058</td><td>406659</td><td>414832</td></tr>\n",
              "\t<tr><th scope=row>4</th><td>  Hauptberufl. wissenschaftl. u. künstler. Personal</td><td>männlich </td><td>135125</td><td>138231</td><td>141704</td><td>145386</td><td>146556</td><td>146861</td><td>147811</td><td>151563</td><td>154020</td><td>155848</td><td>159567</td></tr>\n",
              "\t<tr><th scope=row>5</th><td>  Hauptberufl. wissenschaftl. u. künstler. Personal</td><td>weiblich </td><td>75424 </td><td>79307 </td><td>83410 </td><td>87873 </td><td>89808 </td><td>92339 </td><td>94587 </td><td>97972 </td><td>101522</td><td>104763</td><td>109708</td></tr>\n",
              "\t<tr><th scope=row>6</th><td>  Hauptberufl. wissenschaftl. u. künstler. Personal</td><td>Insgesamt</td><td>210549</td><td>217538</td><td>225114</td><td>233259</td><td>236364</td><td>239200</td><td>242398</td><td>249535</td><td>255542</td><td>260611</td><td>269275</td></tr>\n",
              "</tbody>\n",
              "</table>\n"
            ],
            "text/markdown": "\nA data.frame: 6 × 13\n\n| <!--/--> | V1 &lt;chr&gt; | V2 &lt;chr&gt; | V3 &lt;chr&gt; | V4 &lt;chr&gt; | V5 &lt;chr&gt; | V6 &lt;chr&gt; | V7 &lt;chr&gt; | V8 &lt;chr&gt; | V9 &lt;chr&gt; | V10 &lt;chr&gt; | V11 &lt;chr&gt; | V12 &lt;chr&gt; | V13 &lt;chr&gt; |\n|---|---|---|---|---|---|---|---|---|---|---|---|---|---|\n| 1 | Wissenschaftliches und künstlerisches Personal      | männlich  | 208268 | 214232 | 222735 | 230286 | 236561 | 237107 | 237557 | 241300 | 244186 | 245452 | 247720 |\n| 2 | Wissenschaftliches und künstlerisches Personal      | weiblich  | 116099 | 122870 | 130955 | 139561 | 144708 | 148204 | 149195 | 153578 | 157872 | 161207 | 167112 |\n| 3 | Wissenschaftliches und künstlerisches Personal      | Insgesamt | 324367 | 337102 | 353690 | 369847 | 381269 | 385311 | 386752 | 394878 | 402058 | 406659 | 414832 |\n| 4 |   Hauptberufl. wissenschaftl. u. künstler. Personal | männlich  | 135125 | 138231 | 141704 | 145386 | 146556 | 146861 | 147811 | 151563 | 154020 | 155848 | 159567 |\n| 5 |   Hauptberufl. wissenschaftl. u. künstler. Personal | weiblich  | 75424  | 79307  | 83410  | 87873  | 89808  | 92339  | 94587  | 97972  | 101522 | 104763 | 109708 |\n| 6 |   Hauptberufl. wissenschaftl. u. künstler. Personal | Insgesamt | 210549 | 217538 | 225114 | 233259 | 236364 | 239200 | 242398 | 249535 | 255542 | 260611 | 269275 |\n\n",
            "text/latex": "A data.frame: 6 × 13\n\\begin{tabular}{r|lllllllllllll}\n  & V1 & V2 & V3 & V4 & V5 & V6 & V7 & V8 & V9 & V10 & V11 & V12 & V13\\\\\n  & <chr> & <chr> & <chr> & <chr> & <chr> & <chr> & <chr> & <chr> & <chr> & <chr> & <chr> & <chr> & <chr>\\\\\n\\hline\n\t1 & Wissenschaftliches und künstlerisches Personal      & männlich  & 208268 & 214232 & 222735 & 230286 & 236561 & 237107 & 237557 & 241300 & 244186 & 245452 & 247720\\\\\n\t2 & Wissenschaftliches und künstlerisches Personal      & weiblich  & 116099 & 122870 & 130955 & 139561 & 144708 & 148204 & 149195 & 153578 & 157872 & 161207 & 167112\\\\\n\t3 & Wissenschaftliches und künstlerisches Personal      & Insgesamt & 324367 & 337102 & 353690 & 369847 & 381269 & 385311 & 386752 & 394878 & 402058 & 406659 & 414832\\\\\n\t4 &   Hauptberufl. wissenschaftl. u. künstler. Personal & männlich  & 135125 & 138231 & 141704 & 145386 & 146556 & 146861 & 147811 & 151563 & 154020 & 155848 & 159567\\\\\n\t5 &   Hauptberufl. wissenschaftl. u. künstler. Personal & weiblich  & 75424  & 79307  & 83410  & 87873  & 89808  & 92339  & 94587  & 97972  & 101522 & 104763 & 109708\\\\\n\t6 &   Hauptberufl. wissenschaftl. u. künstler. Personal & Insgesamt & 210549 & 217538 & 225114 & 233259 & 236364 & 239200 & 242398 & 249535 & 255542 & 260611 & 269275\\\\\n\\end{tabular}\n",
            "text/plain": [
              "  V1                                                  V2        V3     V4    \n",
              "1 Wissenschaftliches und künstlerisches Personal      männlich  208268 214232\n",
              "2 Wissenschaftliches und künstlerisches Personal      weiblich  116099 122870\n",
              "3 Wissenschaftliches und künstlerisches Personal      Insgesamt 324367 337102\n",
              "4   Hauptberufl. wissenschaftl. u. künstler. Personal männlich  135125 138231\n",
              "5   Hauptberufl. wissenschaftl. u. künstler. Personal weiblich  75424  79307 \n",
              "6   Hauptberufl. wissenschaftl. u. künstler. Personal Insgesamt 210549 217538\n",
              "  V5     V6     V7     V8     V9     V10    V11    V12    V13   \n",
              "1 222735 230286 236561 237107 237557 241300 244186 245452 247720\n",
              "2 130955 139561 144708 148204 149195 153578 157872 161207 167112\n",
              "3 353690 369847 381269 385311 386752 394878 402058 406659 414832\n",
              "4 141704 145386 146556 146861 147811 151563 154020 155848 159567\n",
              "5 83410  87873  89808  92339  94587  97972  101522 104763 109708\n",
              "6 225114 233259 236364 239200 242398 249535 255542 260611 269275"
            ]
          },
          "metadata": {}
        }
      ]
    },
    {
      "cell_type": "markdown",
      "source": [
        "Für ein besseres Verständnis setzten Sie wieder eine verständliche Variablenbezeichnung (Spaltenüberschriften):"
      ],
      "metadata": {
        "id": "idwssN5Q91ly"
      }
    },
    {
      "cell_type": "code",
      "source": [
        "#Schritt 1: Objekt definieren, welches in aufsteigender Reihenfolge die Beschriftungen \"Angestelltenverältns_2010\" bis \"Angestelltenverältns_2020\" enthält.\n",
        "alle_Jahre <- paste(\"Angestelltenzahl_\",sep=\"\", 2010:2020)\n",
        "\n",
        "#Schritt 2: Variablenbezeichnung setzen\n",
        "colnames(Tabellendaten) <- c(\"Angestelltenverhaeltnis\", \"Geschlecht\", alle_Jahre)\n",
        "\n",
        "#Tabelle anzeigen lassen\n",
        "head(Tabellendaten)"
      ],
      "metadata": {
        "id": "fLRNvFYu9vyD",
        "outputId": "bd441b2a-24a6-42ce-8aea-5c5a4cc8595d",
        "colab": {
          "base_uri": "https://localhost:8080/",
          "height": 410
        }
      },
      "execution_count": 6,
      "outputs": [
        {
          "output_type": "display_data",
          "data": {
            "text/html": [
              "<table class=\"dataframe\">\n",
              "<caption>A data.frame: 6 × 13</caption>\n",
              "<thead>\n",
              "\t<tr><th></th><th scope=col>Angestelltenverhaeltnis</th><th scope=col>Geschlecht</th><th scope=col>Angestelltenzahl_2010</th><th scope=col>Angestelltenzahl_2011</th><th scope=col>Angestelltenzahl_2012</th><th scope=col>Angestelltenzahl_2013</th><th scope=col>Angestelltenzahl_2014</th><th scope=col>Angestelltenzahl_2015</th><th scope=col>Angestelltenzahl_2016</th><th scope=col>Angestelltenzahl_2017</th><th scope=col>Angestelltenzahl_2018</th><th scope=col>Angestelltenzahl_2019</th><th scope=col>Angestelltenzahl_2020</th></tr>\n",
              "\t<tr><th></th><th scope=col>&lt;chr&gt;</th><th scope=col>&lt;chr&gt;</th><th scope=col>&lt;chr&gt;</th><th scope=col>&lt;chr&gt;</th><th scope=col>&lt;chr&gt;</th><th scope=col>&lt;chr&gt;</th><th scope=col>&lt;chr&gt;</th><th scope=col>&lt;chr&gt;</th><th scope=col>&lt;chr&gt;</th><th scope=col>&lt;chr&gt;</th><th scope=col>&lt;chr&gt;</th><th scope=col>&lt;chr&gt;</th><th scope=col>&lt;chr&gt;</th></tr>\n",
              "</thead>\n",
              "<tbody>\n",
              "\t<tr><th scope=row>1</th><td>Wissenschaftliches und künstlerisches Personal     </td><td>männlich </td><td>208268</td><td>214232</td><td>222735</td><td>230286</td><td>236561</td><td>237107</td><td>237557</td><td>241300</td><td>244186</td><td>245452</td><td>247720</td></tr>\n",
              "\t<tr><th scope=row>2</th><td>Wissenschaftliches und künstlerisches Personal     </td><td>weiblich </td><td>116099</td><td>122870</td><td>130955</td><td>139561</td><td>144708</td><td>148204</td><td>149195</td><td>153578</td><td>157872</td><td>161207</td><td>167112</td></tr>\n",
              "\t<tr><th scope=row>3</th><td>Wissenschaftliches und künstlerisches Personal     </td><td>Insgesamt</td><td>324367</td><td>337102</td><td>353690</td><td>369847</td><td>381269</td><td>385311</td><td>386752</td><td>394878</td><td>402058</td><td>406659</td><td>414832</td></tr>\n",
              "\t<tr><th scope=row>4</th><td>  Hauptberufl. wissenschaftl. u. künstler. Personal</td><td>männlich </td><td>135125</td><td>138231</td><td>141704</td><td>145386</td><td>146556</td><td>146861</td><td>147811</td><td>151563</td><td>154020</td><td>155848</td><td>159567</td></tr>\n",
              "\t<tr><th scope=row>5</th><td>  Hauptberufl. wissenschaftl. u. künstler. Personal</td><td>weiblich </td><td>75424 </td><td>79307 </td><td>83410 </td><td>87873 </td><td>89808 </td><td>92339 </td><td>94587 </td><td>97972 </td><td>101522</td><td>104763</td><td>109708</td></tr>\n",
              "\t<tr><th scope=row>6</th><td>  Hauptberufl. wissenschaftl. u. künstler. Personal</td><td>Insgesamt</td><td>210549</td><td>217538</td><td>225114</td><td>233259</td><td>236364</td><td>239200</td><td>242398</td><td>249535</td><td>255542</td><td>260611</td><td>269275</td></tr>\n",
              "</tbody>\n",
              "</table>\n"
            ],
            "text/markdown": "\nA data.frame: 6 × 13\n\n| <!--/--> | Angestelltenverhaeltnis &lt;chr&gt; | Geschlecht &lt;chr&gt; | Angestelltenzahl_2010 &lt;chr&gt; | Angestelltenzahl_2011 &lt;chr&gt; | Angestelltenzahl_2012 &lt;chr&gt; | Angestelltenzahl_2013 &lt;chr&gt; | Angestelltenzahl_2014 &lt;chr&gt; | Angestelltenzahl_2015 &lt;chr&gt; | Angestelltenzahl_2016 &lt;chr&gt; | Angestelltenzahl_2017 &lt;chr&gt; | Angestelltenzahl_2018 &lt;chr&gt; | Angestelltenzahl_2019 &lt;chr&gt; | Angestelltenzahl_2020 &lt;chr&gt; |\n|---|---|---|---|---|---|---|---|---|---|---|---|---|---|\n| 1 | Wissenschaftliches und künstlerisches Personal      | männlich  | 208268 | 214232 | 222735 | 230286 | 236561 | 237107 | 237557 | 241300 | 244186 | 245452 | 247720 |\n| 2 | Wissenschaftliches und künstlerisches Personal      | weiblich  | 116099 | 122870 | 130955 | 139561 | 144708 | 148204 | 149195 | 153578 | 157872 | 161207 | 167112 |\n| 3 | Wissenschaftliches und künstlerisches Personal      | Insgesamt | 324367 | 337102 | 353690 | 369847 | 381269 | 385311 | 386752 | 394878 | 402058 | 406659 | 414832 |\n| 4 |   Hauptberufl. wissenschaftl. u. künstler. Personal | männlich  | 135125 | 138231 | 141704 | 145386 | 146556 | 146861 | 147811 | 151563 | 154020 | 155848 | 159567 |\n| 5 |   Hauptberufl. wissenschaftl. u. künstler. Personal | weiblich  | 75424  | 79307  | 83410  | 87873  | 89808  | 92339  | 94587  | 97972  | 101522 | 104763 | 109708 |\n| 6 |   Hauptberufl. wissenschaftl. u. künstler. Personal | Insgesamt | 210549 | 217538 | 225114 | 233259 | 236364 | 239200 | 242398 | 249535 | 255542 | 260611 | 269275 |\n\n",
            "text/latex": "A data.frame: 6 × 13\n\\begin{tabular}{r|lllllllllllll}\n  & Angestelltenverhaeltnis & Geschlecht & Angestelltenzahl\\_2010 & Angestelltenzahl\\_2011 & Angestelltenzahl\\_2012 & Angestelltenzahl\\_2013 & Angestelltenzahl\\_2014 & Angestelltenzahl\\_2015 & Angestelltenzahl\\_2016 & Angestelltenzahl\\_2017 & Angestelltenzahl\\_2018 & Angestelltenzahl\\_2019 & Angestelltenzahl\\_2020\\\\\n  & <chr> & <chr> & <chr> & <chr> & <chr> & <chr> & <chr> & <chr> & <chr> & <chr> & <chr> & <chr> & <chr>\\\\\n\\hline\n\t1 & Wissenschaftliches und künstlerisches Personal      & männlich  & 208268 & 214232 & 222735 & 230286 & 236561 & 237107 & 237557 & 241300 & 244186 & 245452 & 247720\\\\\n\t2 & Wissenschaftliches und künstlerisches Personal      & weiblich  & 116099 & 122870 & 130955 & 139561 & 144708 & 148204 & 149195 & 153578 & 157872 & 161207 & 167112\\\\\n\t3 & Wissenschaftliches und künstlerisches Personal      & Insgesamt & 324367 & 337102 & 353690 & 369847 & 381269 & 385311 & 386752 & 394878 & 402058 & 406659 & 414832\\\\\n\t4 &   Hauptberufl. wissenschaftl. u. künstler. Personal & männlich  & 135125 & 138231 & 141704 & 145386 & 146556 & 146861 & 147811 & 151563 & 154020 & 155848 & 159567\\\\\n\t5 &   Hauptberufl. wissenschaftl. u. künstler. Personal & weiblich  & 75424  & 79307  & 83410  & 87873  & 89808  & 92339  & 94587  & 97972  & 101522 & 104763 & 109708\\\\\n\t6 &   Hauptberufl. wissenschaftl. u. künstler. Personal & Insgesamt & 210549 & 217538 & 225114 & 233259 & 236364 & 239200 & 242398 & 249535 & 255542 & 260611 & 269275\\\\\n\\end{tabular}\n",
            "text/plain": [
              "  Angestelltenverhaeltnis                             Geschlecht\n",
              "1 Wissenschaftliches und künstlerisches Personal      männlich  \n",
              "2 Wissenschaftliches und künstlerisches Personal      weiblich  \n",
              "3 Wissenschaftliches und künstlerisches Personal      Insgesamt \n",
              "4   Hauptberufl. wissenschaftl. u. künstler. Personal männlich  \n",
              "5   Hauptberufl. wissenschaftl. u. künstler. Personal weiblich  \n",
              "6   Hauptberufl. wissenschaftl. u. künstler. Personal Insgesamt \n",
              "  Angestelltenzahl_2010 Angestelltenzahl_2011 Angestelltenzahl_2012\n",
              "1 208268                214232                222735               \n",
              "2 116099                122870                130955               \n",
              "3 324367                337102                353690               \n",
              "4 135125                138231                141704               \n",
              "5 75424                 79307                 83410                \n",
              "6 210549                217538                225114               \n",
              "  Angestelltenzahl_2013 Angestelltenzahl_2014 Angestelltenzahl_2015\n",
              "1 230286                236561                237107               \n",
              "2 139561                144708                148204               \n",
              "3 369847                381269                385311               \n",
              "4 145386                146556                146861               \n",
              "5 87873                 89808                 92339                \n",
              "6 233259                236364                239200               \n",
              "  Angestelltenzahl_2016 Angestelltenzahl_2017 Angestelltenzahl_2018\n",
              "1 237557                241300                244186               \n",
              "2 149195                153578                157872               \n",
              "3 386752                394878                402058               \n",
              "4 147811                151563                154020               \n",
              "5 94587                 97972                 101522               \n",
              "6 242398                249535                255542               \n",
              "  Angestelltenzahl_2019 Angestelltenzahl_2020\n",
              "1 245452                247720               \n",
              "2 161207                167112               \n",
              "3 406659                414832               \n",
              "4 155848                159567               \n",
              "5 104763                109708               \n",
              "6 260611                269275               "
            ]
          },
          "metadata": {}
        }
      ]
    },
    {
      "cell_type": "markdown",
      "source": [
        "Damit Sie die Tabelle im nächsten Schritt filtern können, müssen Sie wieder die unnötigen Leerzeichen mittels des `trimws()`-Befehls entfernen."
      ],
      "metadata": {
        "id": "I2dYN343-ETr"
      }
    },
    {
      "cell_type": "code",
      "source": [
        "#Leerzeichen entfernen\n",
        "Tabellendaten$Angestelltenverhaeltnis <- trimws(Tabellendaten$Angestelltenverhaeltnis)"
      ],
      "metadata": {
        "id": "OVJsfW2594LJ"
      },
      "execution_count": 7,
      "outputs": []
    },
    {
      "cell_type": "markdown",
      "source": [
        "Nun Sind die Daten bereit zur Auswertung.\n",
        "\n",
        "## Gesuchte Daten finden\n",
        "\n",
        "In der Forschungsfrage wird von der \"Zusammensetzung des Personals an deutschen Hochschulen\"\" gesprochen.\n",
        "Nun stellt sich die Frage, welche Personalgruppen hierfür genau beleuchtet werden sollen. Damit es übersichtlich bleibt, betrachten wir im folgenden nur die zwei Übergruppen \"Wissenschaftliches und künstlerisches Personal\" und \"Verwaltungs-, technisches und sonstiges Personal\".\n",
        "\n",
        "Hierfür filtern wir die Tabelle nach diesen beiden Gruppen:\n"
      ],
      "metadata": {
        "id": "pxD8JYb7-IPr"
      }
    },
    {
      "cell_type": "code",
      "source": [
        "#Tabelle filtern\n",
        "Daten_basis <- filter(Tabellendaten, Angestelltenverhaeltnis == \"Wissenschaftliches und künstlerisches Personal\"\n",
        "                     & Geschlecht ==\"Insgesamt\" | Angestelltenverhaeltnis == \"Verwaltungs-, technisches und sonstiges Personal\"\n",
        "                     & Geschlecht ==\"Insgesamt\")\n",
        "#Ergbnis sichten\n",
        "show(Daten_basis)"
      ],
      "metadata": {
        "id": "od0gjEa7-HZH",
        "outputId": "3e54ae62-6654-4453-e599-cd89050808be",
        "colab": {
          "base_uri": "https://localhost:8080/"
        }
      },
      "execution_count": 8,
      "outputs": [
        {
          "output_type": "stream",
          "name": "stdout",
          "text": [
            "                           Angestelltenverhaeltnis Geschlecht\n",
            "1   Wissenschaftliches und künstlerisches Personal  Insgesamt\n",
            "2 Verwaltungs-, technisches und sonstiges Personal  Insgesamt\n",
            "  Angestelltenzahl_2010 Angestelltenzahl_2011 Angestelltenzahl_2012\n",
            "1                324367                337102                353690\n",
            "2                277315                282131                286331\n",
            "  Angestelltenzahl_2013 Angestelltenzahl_2014 Angestelltenzahl_2015\n",
            "1                369847                381269                385311\n",
            "2                292229                293877                299074\n",
            "  Angestelltenzahl_2016 Angestelltenzahl_2017 Angestelltenzahl_2018\n",
            "1                386752                394878                402058\n",
            "2                304611                309729                317145\n",
            "  Angestelltenzahl_2019 Angestelltenzahl_2020\n",
            "1                406659                414832\n",
            "2                331103                344233\n"
          ]
        }
      ]
    },
    {
      "cell_type": "markdown",
      "source": [
        "## Daten auswerten\n",
        "\n",
        "Um mit Datenwerten rechnen zu können, ist die Klasse der Daten entscheidend. Was Variablenklassen genau sind wurde in der Lerneinheit [Übung: Arbeiten mit CSV-Dateien in R](Variablenklasse) bereits besprochen.\n",
        "\n",
        "Mittels des Befehls `str()` können Sie sich schnell die Klassen anzeigen lassen:"
      ],
      "metadata": {
        "id": "UwE2dBoQ-X6B"
      }
    },
    {
      "cell_type": "code",
      "source": [
        "str(Daten_basis)"
      ],
      "metadata": {
        "id": "8aN-eCo5-PBt",
        "outputId": "0cb4e9b7-1cf6-4a8b-9412-b8a660327de1",
        "colab": {
          "base_uri": "https://localhost:8080/"
        }
      },
      "execution_count": 9,
      "outputs": [
        {
          "output_type": "stream",
          "name": "stdout",
          "text": [
            "'data.frame':\t2 obs. of  13 variables:\n",
            " $ Angestelltenverhaeltnis: chr  \"Wissenschaftliches und künstlerisches Personal\" \"Verwaltungs-, technisches und sonstiges Personal\"\n",
            " $ Geschlecht             : chr  \"Insgesamt\" \"Insgesamt\"\n",
            " $ Angestelltenzahl_2010  : chr  \"324367\" \"277315\"\n",
            " $ Angestelltenzahl_2011  : chr  \"337102\" \"282131\"\n",
            " $ Angestelltenzahl_2012  : chr  \"353690\" \"286331\"\n",
            " $ Angestelltenzahl_2013  : chr  \"369847\" \"292229\"\n",
            " $ Angestelltenzahl_2014  : chr  \"381269\" \"293877\"\n",
            " $ Angestelltenzahl_2015  : chr  \"385311\" \"299074\"\n",
            " $ Angestelltenzahl_2016  : chr  \"386752\" \"304611\"\n",
            " $ Angestelltenzahl_2017  : chr  \"394878\" \"309729\"\n",
            " $ Angestelltenzahl_2018  : chr  \"402058\" \"317145\"\n",
            " $ Angestelltenzahl_2019  : chr  \"406659\" \"331103\"\n",
            " $ Angestelltenzahl_2020  : chr  \"414832\" \"344233\"\n"
          ]
        }
      ]
    },
    {
      "cell_type": "markdown",
      "source": [
        "Im folgenden Wollen wir die Jahre 2010 und 2020 miteinander vergleichen, daher müssen Sie für diese Variablen die Klasse in integer oder numeric ändern."
      ],
      "metadata": {
        "id": "xdFh0GDy-eix"
      }
    },
    {
      "cell_type": "code",
      "source": [
        "Daten_basis$Angestelltenzahl_2010 <- as.integer(Daten_basis$Angestelltenzahl_2010)\n",
        "Daten_basis$Angestelltenzahl_2020 <- as.integer(Daten_basis$Angestelltenzahl_2020)"
      ],
      "metadata": {
        "id": "7mrRYoIw-aaQ"
      },
      "execution_count": 10,
      "outputs": []
    },
    {
      "cell_type": "markdown",
      "source": [
        "##### Wie hat sich der Personalbestand zwischen den Jahren 2010 und 2020 verändert?"
      ],
      "metadata": {
        "id": "iSgcHoto-jYn"
      }
    },
    {
      "cell_type": "code",
      "source": [
        "#Absolute Veränderung:\n",
        "Daten_basis$Angestelltenzahl_2020 - Daten_basis$Angestelltenzahl_2010\n",
        "\n",
        "#Prozentuale veränderung:\n",
        "(Daten_basis$Angestelltenzahl_2020 - Daten_basis$Angestelltenzahl_2010) / Daten_basis$Angestelltenzahl_2010 * 100"
      ],
      "metadata": {
        "id": "4WVi1Juu-gsd",
        "outputId": "7b84010d-1e09-4236-8be6-64e65ca4aed2",
        "colab": {
          "base_uri": "https://localhost:8080/",
          "height": 52
        }
      },
      "execution_count": 11,
      "outputs": [
        {
          "output_type": "display_data",
          "data": {
            "text/html": [
              "<style>\n",
              ".list-inline {list-style: none; margin:0; padding: 0}\n",
              ".list-inline>li {display: inline-block}\n",
              ".list-inline>li:not(:last-child)::after {content: \"\\00b7\"; padding: 0 .5ex}\n",
              "</style>\n",
              "<ol class=list-inline><li>90465</li><li>66918</li></ol>\n"
            ],
            "text/markdown": "1. 90465\n2. 66918\n\n\n",
            "text/latex": "\\begin{enumerate*}\n\\item 90465\n\\item 66918\n\\end{enumerate*}\n",
            "text/plain": [
              "[1] 90465 66918"
            ]
          },
          "metadata": {}
        },
        {
          "output_type": "display_data",
          "data": {
            "text/html": [
              "<style>\n",
              ".list-inline {list-style: none; margin:0; padding: 0}\n",
              ".list-inline>li {display: inline-block}\n",
              ".list-inline>li:not(:last-child)::after {content: \"\\00b7\"; padding: 0 .5ex}\n",
              "</style>\n",
              "<ol class=list-inline><li>27.8897051796268</li><li>24.1306817157384</li></ol>\n"
            ],
            "text/markdown": "1. 27.8897051796268\n2. 24.1306817157384\n\n\n",
            "text/latex": "\\begin{enumerate*}\n\\item 27.8897051796268\n\\item 24.1306817157384\n\\end{enumerate*}\n",
            "text/plain": [
              "[1] 27.88971 24.13068"
            ]
          },
          "metadata": {}
        }
      ]
    },
    {
      "cell_type": "markdown",
      "source": [
        "**Antwort:**\n",
        "Der absolute Personalbestand an deutschen Hochschulen hat sich wie folgt verändert:\n",
        "\n",
        "- Zwischen den Jahren 2010 und 2020 hat sich der Personalbestand von *wissenschaftlichem und künstlerischem Personal* um 90.465 erhöht. Dies entspricht einer Erhöhung um 27,89 %.\n",
        "\n",
        "- Zwischen den Jahren 2010 und 2020 hat sich der Personalbestand von *Verwaltungs-, technischem und sonstigem Personal* um 66.918 erhöht. Dies entspricht einer Erhöhung um 24,13 %.\n",
        "\n",
        "\n",
        "\n",
        "##### Wie groß ist der prozentuale Anteil der jeweiligen Gruppe am gesamten Personalbestand?"
      ],
      "metadata": {
        "id": "PAz4JqQ0-vHj"
      }
    },
    {
      "cell_type": "code",
      "source": [
        "#Prozentuale Zusammensetzung 2010\n",
        "Daten_basis$Angestelltenzahl_2010 / sum(Daten_basis$Angestelltenzahl_2010) * 100\n",
        "\n",
        "#Prozentuale Zusammensetzung 2020\n",
        "Daten_basis$Angestelltenzahl_2020 / sum(Daten_basis$Angestelltenzahl_2020) * 100"
      ],
      "metadata": {
        "id": "cxrLjCOg-oce",
        "outputId": "fbd449ff-2db2-4fa7-ead0-d062d3a3c913",
        "colab": {
          "base_uri": "https://localhost:8080/",
          "height": 52
        }
      },
      "execution_count": 12,
      "outputs": [
        {
          "output_type": "display_data",
          "data": {
            "text/html": [
              "<style>\n",
              ".list-inline {list-style: none; margin:0; padding: 0}\n",
              ".list-inline>li {display: inline-block}\n",
              ".list-inline>li:not(:last-child)::after {content: \"\\00b7\"; padding: 0 .5ex}\n",
              "</style>\n",
              "<ol class=list-inline><li>53.9100388577355</li><li>46.0899611422645</li></ol>\n"
            ],
            "text/markdown": "1. 53.9100388577355\n2. 46.0899611422645\n\n\n",
            "text/latex": "\\begin{enumerate*}\n\\item 53.9100388577355\n\\item 46.0899611422645\n\\end{enumerate*}\n",
            "text/plain": [
              "[1] 53.91004 46.08996"
            ]
          },
          "metadata": {}
        },
        {
          "output_type": "display_data",
          "data": {
            "text/html": [
              "<style>\n",
              ".list-inline {list-style: none; margin:0; padding: 0}\n",
              ".list-inline>li {display: inline-block}\n",
              ".list-inline>li:not(:last-child)::after {content: \"\\00b7\"; padding: 0 .5ex}\n",
              "</style>\n",
              "<ol class=list-inline><li>54.6503922588975</li><li>45.3496077411025</li></ol>\n"
            ],
            "text/markdown": "1. 54.6503922588975\n2. 45.3496077411025\n\n\n",
            "text/latex": "\\begin{enumerate*}\n\\item 54.6503922588975\n\\item 45.3496077411025\n\\end{enumerate*}\n",
            "text/plain": [
              "[1] 54.65039 45.34961"
            ]
          },
          "metadata": {}
        }
      ]
    },
    {
      "cell_type": "markdown",
      "source": [
        "**Antwort:**\n",
        "Die prozentuale Zusammensetzung des Personalbestandes an deutschen Hochschulen hat sich wie folgt verändert:\n",
        "\n",
        "- Zwischen den Jahren 2010 und 2020 hat sich der Personalbestand von *wissenschaftlichem und künstlerischem Personal* von 53,91 % auf 54,65 % am Gesamtanteil gesteigert\n",
        "\n",
        "- Zwischen den Jahren 2010 und 2020 hat sich der Personalbestand von *Verwaltungs-, technischem und sonstigem Personal* von 46,09 % auf 45,35 % am Gesamtanteil verringert.\n",
        "\n",
        "## Daten visualisieren\n",
        "Für eine visuelle Beantwortung unserer Forschungsfrage bietet das erstellen eines Liniendiagramms an.\n",
        "Hierfür benötigen wir einen Datenframe welcher die folgenden Variablen spaltenweise auflistet:\n",
        "\n",
        "- Jahre 2010 bis 2020\n",
        "- Wissenschaftliches und künstlerisches Personal\n",
        "- Verwaltungs-, technisches und sonstiges Personal\n",
        "\n",
        "\n",
        "Dieser Aufbau ähnelt dem Aufbau unserer `Daten_basis`, jedoch müssen wir hierfür die Zeilen nun spaltenweise anordnen. Diesen Schritt nennt man \"transponieren\" (=\"spiegeln\").\n",
        "\n",
        "Der Befehl `t()` hilft uns hier raus:"
      ],
      "metadata": {
        "id": "bD4YQxEf-598"
      }
    },
    {
      "cell_type": "code",
      "source": [
        "Daten_basis_transponiert <- as.data.frame(t(Daten_basis))\n",
        "\n",
        "#Ergbenis anzeigen lassen\n",
        "show(Daten_basis_transponiert)"
      ],
      "metadata": {
        "id": "xjhdwDrO-0Tu",
        "outputId": "ae3c7d0b-bc71-4d1f-ba4b-c3374321e5bb",
        "colab": {
          "base_uri": "https://localhost:8080/"
        }
      },
      "execution_count": 13,
      "outputs": [
        {
          "output_type": "stream",
          "name": "stdout",
          "text": [
            "                                                                    V1\n",
            "Angestelltenverhaeltnis Wissenschaftliches und künstlerisches Personal\n",
            "Geschlecht                                                   Insgesamt\n",
            "Angestelltenzahl_2010                                           324367\n",
            "Angestelltenzahl_2011                                           337102\n",
            "Angestelltenzahl_2012                                           353690\n",
            "Angestelltenzahl_2013                                           369847\n",
            "Angestelltenzahl_2014                                           381269\n",
            "Angestelltenzahl_2015                                           385311\n",
            "Angestelltenzahl_2016                                           386752\n",
            "Angestelltenzahl_2017                                           394878\n",
            "Angestelltenzahl_2018                                           402058\n",
            "Angestelltenzahl_2019                                           406659\n",
            "Angestelltenzahl_2020                                           414832\n",
            "                                                                      V2\n",
            "Angestelltenverhaeltnis Verwaltungs-, technisches und sonstiges Personal\n",
            "Geschlecht                                                     Insgesamt\n",
            "Angestelltenzahl_2010                                             277315\n",
            "Angestelltenzahl_2011                                             282131\n",
            "Angestelltenzahl_2012                                             286331\n",
            "Angestelltenzahl_2013                                             292229\n",
            "Angestelltenzahl_2014                                             293877\n",
            "Angestelltenzahl_2015                                             299074\n",
            "Angestelltenzahl_2016                                             304611\n",
            "Angestelltenzahl_2017                                             309729\n",
            "Angestelltenzahl_2018                                             317145\n",
            "Angestelltenzahl_2019                                             331103\n",
            "Angestelltenzahl_2020                                             344233\n"
          ]
        }
      ]
    },
    {
      "cell_type": "markdown",
      "source": [
        "An dieser Stelle sind wir jetzt primär nur an den Zahlenwerten interessiert und wollen diese in einen neuen Datenframe überführen, welcher die wie oben beschrieben strukturieren erzeugt."
      ],
      "metadata": {
        "id": "udrEZajK_ALl"
      }
    },
    {
      "cell_type": "code",
      "source": [
        "plot_daten <- data_frame(Jahre=2010:2020, Wissenschaft=Daten_basis_transponiert[3:13,1], Verwaltung=Daten_basis_transponiert[3:13,2])\n",
        "\n",
        "#Ergebnis ansehen\n",
        "show(plot_daten)"
      ],
      "metadata": {
        "id": "H6lAwfsB-8i4",
        "outputId": "aec93bff-4f81-4e01-9cf0-0d7d9c7c8ecc",
        "colab": {
          "base_uri": "https://localhost:8080/"
        }
      },
      "execution_count": 14,
      "outputs": [
        {
          "output_type": "stream",
          "name": "stderr",
          "text": [
            "Warning message:\n",
            "“\u001b[1m\u001b[22m`data_frame()` was deprecated in tibble 1.1.0.\n",
            "\u001b[36mℹ\u001b[39m Please use `tibble()` instead.”\n"
          ]
        },
        {
          "output_type": "stream",
          "name": "stdout",
          "text": [
            "\u001b[90m# A tibble: 11 × 3\u001b[39m\n",
            "   Jahre Wissenschaft Verwaltung\n",
            "   \u001b[3m\u001b[90m<int>\u001b[39m\u001b[23m \u001b[3m\u001b[90m<chr>\u001b[39m\u001b[23m        \u001b[3m\u001b[90m<chr>\u001b[39m\u001b[23m     \n",
            "\u001b[90m 1\u001b[39m  \u001b[4m2\u001b[24m010 324367       277315    \n",
            "\u001b[90m 2\u001b[39m  \u001b[4m2\u001b[24m011 337102       282131    \n",
            "\u001b[90m 3\u001b[39m  \u001b[4m2\u001b[24m012 353690       286331    \n",
            "\u001b[90m 4\u001b[39m  \u001b[4m2\u001b[24m013 369847       292229    \n",
            "\u001b[90m 5\u001b[39m  \u001b[4m2\u001b[24m014 381269       293877    \n",
            "\u001b[90m 6\u001b[39m  \u001b[4m2\u001b[24m015 385311       299074    \n",
            "\u001b[90m 7\u001b[39m  \u001b[4m2\u001b[24m016 386752       304611    \n",
            "\u001b[90m 8\u001b[39m  \u001b[4m2\u001b[24m017 394878       309729    \n",
            "\u001b[90m 9\u001b[39m  \u001b[4m2\u001b[24m018 402058       317145    \n",
            "\u001b[90m10\u001b[39m  \u001b[4m2\u001b[24m019 406659       331103    \n",
            "\u001b[90m11\u001b[39m  \u001b[4m2\u001b[24m020 414832       344233    \n"
          ]
        }
      ]
    },
    {
      "cell_type": "markdown",
      "source": [
        "Der erzeugte Datenframe entspricht nun genau der gewünschten Strukutr. Jetzt muss nur noch die Variablenklasse zu integer oder numeric geändert werden und das Liniendiagramm ist bereit, gebaut zu werden."
      ],
      "metadata": {
        "id": "3d9nhOtJ_b6b"
      }
    },
    {
      "cell_type": "code",
      "source": [
        "plot_daten$Wissenschaft <- as.integer(plot_daten$Wissenschaft)\n",
        "plot_daten$Verwaltung <- as.integer(plot_daten$Verwaltung)"
      ],
      "metadata": {
        "id": "WFpwNS3-_MSK"
      },
      "execution_count": 16,
      "outputs": []
    },
    {
      "cell_type": "markdown",
      "source": [
        "Zur Visulaiserung von Daten in **R** empfiehlt sich die Verwendung der `ggplot`-Funktion und der dazugehörigen Spezifizierungen.\n"
      ],
      "metadata": {
        "id": "TbR4FWTS_ht9"
      }
    },
    {
      "cell_type": "code",
      "source": [
        "ggplot(plot_daten, aes(x = Jahre))+ #Setzen der Datenbasis und X-Achse\n",
        "  geom_line(aes(y=Wissenschaft, color = \"red\"))+ #Linie für Varaible \"Wissenschaft\"\" erzeugen\n",
        "  geom_point(aes(y=Wissenschaft), size = 3, color = \"red\")+ #Punkte zur Linie hinzufügen\n",
        "  geom_line(aes(y=Verwaltung, color = \"blue\"))+ #Linie für Varaible \"Verwaltung\"\" erzeugen\n",
        "  geom_point(aes(y=Verwaltung), size = 3, color = \"blue\")+ #Punkte zur Linie hinzufügen\n",
        "  scale_x_continuous(breaks = 2010:2020)+ #Abschnitte für X-Achse definieren\n",
        "  theme_bw(base_size = 15)+ #Layout bzw. Theme setzen\n",
        "  scale_y_continuous(\"Personalbestand\", limits=c(0,500000),labels = scales::comma)+ #Y-Achse beschriften und Wertebereich setzen.\n",
        "  ggtitle(\"Zusammensetzung des Personals an Hochschulen in Deutschland im letzten Jahrzehnt (2010-2020)\")+ #Diagrammtitel setzen\n",
        "  scale_color_identity(name = \"Personalkategorie\",\n",
        "                       breaks = c(\"red\", \"blue\"),\n",
        "                       labels = c(\"Wissenschaftliches und künstlerisches Personal\", \"Verwaltungs-, technisches und sonstiges Personal\"),\n",
        "                       guide = \"legend\"\n",
        "                       ) #Legende setzen"
      ],
      "metadata": {
        "id": "KKok7j7v_ei4"
      },
      "execution_count": null,
      "outputs": []
    },
    {
      "cell_type": "markdown",
      "source": [
        "![](https://raw.githubusercontent.com/quadriga-dk/Tabelle-Fallstudie-1/main/Markdown/_images/Zeitreihe_Entwicklung_Hochschulpersonal.png)\n",
        "\n",
        "\n",
        "In dem erzeugten Liniendiagramm lässt sich die Erhöhung des Bestandes beider Personalgruppen leicht ablesen.\n",
        "\n",
        "Zuletzt bleibt nun nur noch eine zusammenfassende Antwort auf unsere Forschungsfrage aus.\n",
        "\n",
        "> Wie hat sich die Zusammensetzung des Personals an Hochschulen in Deutschland im letzten Jahrzehnt (2010-2020) entwickelt?\n",
        "\n",
        "`````{admonition} Antwort\n",
        ":class: tip\n",
        "Das Personal an Hochschulen in Deutschland gliedert sich in zwei Hauptgruppen:\n",
        "\n",
        "- 1. Wissenschaftliches und künstlerisches Personal\n",
        "- 2. Verwaltungs-, technisches und sonstiges Personal\n",
        "\n",
        "Beide Personalgruppen haben Sie zwischen den Jahren 2010 und 2020 kontinuierlich erhöht.\n",
        "Der Personalstand des wissenschaftlichen und künstlerischen Personals hat sich um 90.465 Mitarbeitende auf 414.832 erhöht. Der Anteil dieser Gruppe am gesamten Personalbestand hat sich ebenfalls von 53,91 % auf 54,65 % gesteigert.\n",
        "Der Personalstand des Verwaltungs-, technischen und sonstigen Personal hat sich um 66.918 Mitarbeitende auf 344.233 erhöht. Der Anteil dieser Gruppe am gesamten Personalbestand hat sich jedoch von 46,09 % auf 45,35 % verringert."
      ],
      "metadata": {
        "id": "mDtnzWCL_0ee"
      }
    }
  ],
  "metadata": {
    "colab": {
      "name": "Welcome To Colab",
      "provenance": []
    },
    "kernelspec": {
      "display_name": "R",
      "name": "ir"
    },
    "language_info": {
      "name": "R"
    }
  },
  "nbformat": 4,
  "nbformat_minor": 0
}
